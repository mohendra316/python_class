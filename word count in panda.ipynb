{
 "cells": [
  {
   "cell_type": "code",
   "execution_count": 1,
   "metadata": {
    "collapsed": true
   },
   "outputs": [],
   "source": [
    "import pandas as pd\n",
    "text = \"\"\"As long as your only concern is placing text on a Web page, it makes no difference\n",
    "whether your page is about music or mushrooms. However, if Richard wants to implement\n",
    "a search engine that can quickly scan this document and extract information about\n",
    "the artist or music tracks, it would help if the document structure told the search engine\n",
    "something about the document content. Without being able to determine whether a particular\n",
    "tag refers to the title, music track, price, or artist, it’s difficult to locate the precise\n",
    "piece of information that Richard might want.\"\"\""
   ]
  },
  {
   "cell_type": "code",
   "execution_count": 2,
   "metadata": {
    "collapsed": false
   },
   "outputs": [],
   "source": [
    "\n",
    "text1=text.replace(\".\",\"\").replace(\",\",\"\").replace(\"’\",\"\").lower()"
   ]
  },
  {
   "cell_type": "code",
   "execution_count": 3,
   "metadata": {
    "collapsed": false
   },
   "outputs": [],
   "source": [
    "text1=text1.split()\n",
    "text9=pd.Series(text1)"
   ]
  },
  {
   "cell_type": "code",
   "execution_count": 11,
   "metadata": {
    "collapsed": false
   },
   "outputs": [],
   "source": [
    "count = text9.value_counts()"
   ]
  },
  {
   "cell_type": "code",
   "execution_count": 16,
   "metadata": {
    "collapsed": false
   },
   "outputs": [],
   "source": [
    "stop_words = [\"a\",\"the\",\"an\",\"if\",\"is\",\"are\",\"as\",\"of\",\"it\",\"on\",\"to\",\"or\",\"and\"]\n",
    "for q in stop_words:\n",
    "    try:\n",
    "        del count[q]\n",
    "    except:\n",
    "        pass"
   ]
  },
  {
   "cell_type": "code",
   "execution_count": 17,
   "metadata": {
    "collapsed": false
   },
   "outputs": [
    {
     "data": {
      "text/plain": [
       "music          3\n",
       "about          3\n",
       "document       3\n",
       "page           2\n",
       "search         2\n",
       "whether        2\n",
       "artist         2\n",
       "that           2\n",
       "engine         2\n",
       "richard        2\n",
       "information    2\n",
       "your           2\n",
       "long           1\n",
       "help           1\n",
       "no             1\n",
       "being          1\n",
       "implement      1\n",
       "track          1\n",
       "extract        1\n",
       "might          1\n",
       "can            1\n",
       "scan           1\n",
       "title          1\n",
       "want           1\n",
       "web            1\n",
       "determine      1\n",
       "price          1\n",
       "would          1\n",
       "only           1\n",
       "wants          1\n",
       "mushrooms      1\n",
       "locate         1\n",
       "particular     1\n",
       "without        1\n",
       "precise        1\n",
       "however        1\n",
       "difference     1\n",
       "piece          1\n",
       "placing        1\n",
       "structure      1\n",
       "text           1\n",
       "difficult      1\n",
       "concern        1\n",
       "something      1\n",
       "able           1\n",
       "makes          1\n",
       "refers         1\n",
       "quickly        1\n",
       "its            1\n",
       "told           1\n",
       "this           1\n",
       "tag            1\n",
       "content        1\n",
       "tracks         1\n",
       "dtype: int64"
      ]
     },
     "execution_count": 17,
     "metadata": {},
     "output_type": "execute_result"
    }
   ],
   "source": [
    "count"
   ]
  },
  {
   "cell_type": "code",
   "execution_count": null,
   "metadata": {
    "collapsed": true
   },
   "outputs": [],
   "source": []
  }
 ],
 "metadata": {
  "kernelspec": {
   "display_name": "Python 3",
   "language": "python",
   "name": "python3"
  },
  "language_info": {
   "codemirror_mode": {
    "name": "ipython",
    "version": 3
   },
   "file_extension": ".py",
   "mimetype": "text/x-python",
   "name": "python",
   "nbconvert_exporter": "python",
   "pygments_lexer": "ipython3",
   "version": "3.6.0"
  }
 },
 "nbformat": 4,
 "nbformat_minor": 2
}
