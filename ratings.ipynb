{
 "cells": [
  {
   "cell_type": "code",
   "execution_count": 28,
   "metadata": {
    "collapsed": false
   },
   "outputs": [
    {
     "name": "stdout",
     "output_type": "stream",
     "text": [
      "[[ 5.  6.  7.  9.]\n",
      " [ 6.  9.  4.  8.]\n",
      " [ 4.  6.  8.  9.]\n",
      " [ 8.  7.  9.  6.]\n",
      " [ 5.  8.  7.  6.]\n",
      " [ 8.  6.  8.  5.]\n",
      " [ 6.  7.  4.  8.]\n",
      " [ 4.  8.  9.  7.]\n",
      " [ 6.  8.  7.  5.]\n",
      " [ 6.  8.  5.  9.]]\n",
      "[[ 0.          4.47213595  1.41421356  4.79583152  3.60555128  5.09901951\n",
      "   3.46410162  3.60555128  4.58257569  3.        ]\n",
      " [ 4.47213595  0.          5.47722558  6.08276253  3.87298335  6.164414    2.\n",
      "   5.56776436  4.35889894  1.73205081]\n",
      " [ 1.41421356  5.47722558  0.          5.19615242  3.87298335  5.65685425\n",
      "   4.69041576  3.          5.          4.12310563]\n",
      " [ 4.79583152  6.08276253  5.19615242  0.          3.74165739  1.73205081\n",
      "   5.74456265  4.24264069  3.16227766  5.47722558]\n",
      " [ 3.60555128  3.87298335  3.87298335  3.74165739  0.          3.87298335\n",
      "   3.87298335  2.44948974  1.41421356  3.74165739]\n",
      " [ 5.09901951  6.164414    5.65685425  1.73205081  3.87298335  0.\n",
      "   5.47722558  5.          3.          5.74456265]\n",
      " [ 3.46410162  2.          4.69041576  5.74456265  3.87298335  5.47722558\n",
      "   0.          5.56776436  4.35889894  1.73205081]\n",
      " [ 3.60555128  5.56776436  3.          4.24264069  2.44948974  5.\n",
      "   5.56776436  0.          3.46410162  4.89897949]\n",
      " [ 4.58257569  4.35889894  5.          3.16227766  1.41421356  3.\n",
      "   4.35889894  3.46410162  0.          4.47213595]\n",
      " [ 3.          1.73205081  4.12310563  5.47722558  3.74165739  5.74456265\n",
      "   1.73205081  4.89897949  4.47213595  0.        ]]\n",
      "3.68004105853\n",
      "4.08893450948\n",
      "[[1 0 1 0 1 0 1 1 0 1]\n",
      " [0 1 0 0 1 0 1 0 0 1]\n",
      " [1 0 1 0 1 0 0 1 0 0]\n",
      " [0 0 0 1 1 1 0 0 1 0]\n",
      " [1 1 1 1 1 1 1 1 1 1]\n",
      " [0 0 0 1 1 1 0 0 1 0]\n",
      " [1 1 0 0 1 0 1 0 0 1]\n",
      " [1 0 1 0 1 0 0 1 1 0]\n",
      " [0 0 0 1 1 1 0 1 1 0]\n",
      " [1 1 0 0 1 0 1 0 0 1]]\n"
     ]
    }
   ],
   "source": [
    "import csv\n",
    "from math import sqrt\n",
    "\n",
    "f = open(r'D:\\pythonclass\\git_project\\ratings.csv','r')\n",
    "data = np.array(list(csv.reader(f)))\n",
    "import numpy as np\n",
    "data2 = np.array(data[1:,1:],dtype=np.float)\n",
    "print(data2)\n",
    "\n",
    "def dist(dataa,datab):\n",
    "    d = (dataa - datab)**2\n",
    "    return (d.sum())**0.5\n",
    "        \n",
    "def mmain():\n",
    "    a=[]\n",
    "    for i in range(len(data2)):\n",
    "        aa = []\n",
    "        for j in range(len(data2)):\n",
    "                s=dist(data2[i],data2[j])\n",
    "                aa.append(s)\n",
    "        a.append(aa)\n",
    "    print(np.array(a))\n",
    "    print(np.array(a).mean())\n",
    "    b=0\n",
    "    c=0\n",
    "    for i in range(len(a)):\n",
    "        for j in range(len(a)):\n",
    "            if i!=j:\n",
    "                c+=1\n",
    "                b+=a[i][j]\n",
    "    avg=b/c\n",
    "    print(avg)\n",
    "    for i in range(len(a)):\n",
    "        for j in range(len(a)):\n",
    "                if a[i][j]<=avg:\n",
    "                    a[i][j]=1\n",
    "                else:\n",
    "                    a[i][j]=(0)\n",
    "    print(np.array(a))   \n",
    "\n",
    "mmain()\n",
    "            "
   ]
  },
  {
   "cell_type": "code",
   "execution_count": 31,
   "metadata": {
    "collapsed": false
   },
   "outputs": [
    {
     "data": {
      "image/png": "[encoded data removed]",
      "text/plain": [
       "<matplotlib.figure.Figure at 0x208b8013c88>"
      ]
     },
     "metadata": {},
     "output_type": "display_data"
    }
   ],
   "source": [
    "import matplotlib.pyplot as plt\n",
    "\n",
    "plt.plot(data2[:,1],data2[:,2],'^',color='red')\n",
    "\n",
    "plt.xlabel('starwars')\n",
    "plt.ylabel('spiterman')\n",
    "plt.title('starwars vs spiderman')\n",
    "plt.show()"
   ]
  }
 ],
 "metadata": {
  "anaconda-cloud": {},
  "kernelspec": {
   "display_name": "Python [conda root]",
   "language": "python",
   "name": "conda-root-py"
  },
  "language_info": {
   "codemirror_mode": {
    "name": "ipython",
    "version": 3
   },
   "file_extension": ".py",
   "mimetype": "text/x-python",
   "name": "python",
   "nbconvert_exporter": "python",
   "pygments_lexer": "ipython3",
   "version": "3.5.2"
  }
 },
 "nbformat": 4,
 "nbformat_minor": 1
}
