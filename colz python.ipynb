{
 "cells": [
  {
   "cell_type": "code",
   "execution_count": 2,
   "metadata": {
    "collapsed": false
   },
   "outputs": [
    {
     "name": "stdout",
     "output_type": "stream",
     "text": [
      "0\n",
      "1\n",
      "2\n",
      "4\n",
      "5\n"
     ]
    }
   ],
   "source": [
    "for i in range(6):\n",
    "    if i!=3:\n",
    "        print(i)"
   ]
  },
  {
   "cell_type": "code",
   "execution_count": 5,
   "metadata": {
    "collapsed": false
   },
   "outputs": [
    {
     "name": "stdout",
     "output_type": "stream",
     "text": [
      "enter name=alish\n",
      "enter name=alish\n",
      "enter name=alish\n",
      "enter name=alish\n",
      "enter name=exit\n"
     ]
    }
   ],
   "source": [
    "n='j'\n",
    "while (n!=\"exit\"):\n",
    "    num=input(\"enter name=\")\n",
    "    n=num"
   ]
  },
  {
   "cell_type": "code",
   "execution_count": 7,
   "metadata": {
    "collapsed": false
   },
   "outputs": [
    {
     "name": "stdout",
     "output_type": "stream",
     "text": [
      "enter namealish\n",
      "enter namealish\n",
      "enter namealihs\n",
      "enter nameexit\n"
     ]
    }
   ],
   "source": [
    "while True:\n",
    "    num=input(\"enter name\")\n",
    "    if (num==\"exit\"):\n",
    "        break"
   ]
  },
  {
   "cell_type": "code",
   "execution_count": 18,
   "metadata": {
    "collapsed": false
   },
   "outputs": [
    {
     "name": "stdout",
     "output_type": "stream",
     "text": [
      "[1, 2, 5, 5, 3, 4, 'hello']\n",
      "[1, 2, 5, 5, 1, 2, 5, 5]\n"
     ]
    },
    {
     "data": {
      "text/plain": [
       "{1, 2, 5}"
      ]
     },
     "execution_count": 18,
     "metadata": {},
     "output_type": "execute_result"
    }
   ],
   "source": [
    "a=[1,2,5,5]\n",
    "b=[3,4,'hello']\n",
    "print(a+b)\n",
    "print(a*2)\n",
    "set(a)"
   ]
  },
  {
   "cell_type": "markdown",
   "metadata": {},
   "source": [
    "# dictionary\n",
    "## dddd"
   ]
  },
  {
   "cell_type": "code",
   "execution_count": 27,
   "metadata": {
    "collapsed": false
   },
   "outputs": [
    {
     "name": "stdout",
     "output_type": "stream",
     "text": [
      "{'name': 'abc', 'age': 20, 'edu': 'be'}\n",
      "name abc\n",
      "age 20\n",
      "edu be\n"
     ]
    }
   ],
   "source": [
    "dict={\"name\":'abc','age':20,'edu':'be'}\n",
    "print(dict)\n",
    "for ke,value in dict.items():\n",
    "    print(ke,value)"
   ]
  },
  {
   "cell_type": "markdown",
   "metadata": {},
   "source": [
    "# exception"
   ]
  },
  {
   "cell_type": "code",
   "execution_count": 28,
   "metadata": {
    "collapsed": false
   },
   "outputs": [
    {
     "name": "stdout",
     "output_type": "stream",
     "text": [
      "division by zero\n"
     ]
    }
   ],
   "source": [
    "try:\n",
    "    sum=2/0\n",
    "except Exception as e:\n",
    "    print(e)"
   ]
  },
  {
   "cell_type": "code",
   "execution_count": 35,
   "metadata": {
    "collapsed": false
   },
   "outputs": [],
   "source": [
    "try:\n",
    "    f=open(\"abc.txt\",'wb')\n",
    "    f=open(\"abc.txt\",'r+')\n",
    "    f.read(20)\n",
    "except Exception as e:\n",
    "    print(e)"
   ]
  },
  {
   "cell_type": "markdown",
   "metadata": {},
   "source": [
    "# machine learning"
   ]
  },
  {
   "cell_type": "code",
   "execution_count": 18,
   "metadata": {
    "collapsed": false
   },
   "outputs": [
    {
     "data": {
      "image/png": "[encoded data removed]",
      "text/plain": [
       "<matplotlib.figure.Figure at 0x7f1c09d4ea20>"
      ]
     },
     "metadata": {},
     "output_type": "display_data"
    },
    {
     "data": {
      "text/plain": [
       "array([ 21.49137931])"
      ]
     },
     "execution_count": 18,
     "metadata": {},
     "output_type": "execute_result"
    }
   ],
   "source": [
    "import matplotlib.pyplot as plt\n",
    "plt.figure()\n",
    "x=[[6],[8],[10],[14],[18]]\n",
    "y=[[7],[9],[13],[17.5],[18]]\n",
    "\n",
    "plt.plot(x,y,color='red')\n",
    "plt.title(\"Diameter of pizza against price\")\n",
    "plt.xlabel(\"Diameter in inches\")\n",
    "plt.ylabel(\"Price in Dollar\")\n",
    "plt.show()\n",
    "\n",
    "from sklearn.linear_model import LinearRegression\n",
    "model = LinearRegression()\n",
    "model.fit(x,y)\n",
    "model.predict(20)[0]\n",
    "\n"
   ]
  },
  {
   "cell_type": "code",
   "execution_count": 25,
   "metadata": {
    "collapsed": false
   },
   "outputs": [
    {
     "data": {
      "text/plain": [
       "array([[  9.77586207],\n",
       "       [ 10.75215517],\n",
       "       [ 12.70474138],\n",
       "       [ 17.5862069 ],\n",
       "       [ 13.68103448]])"
      ]
     },
     "execution_count": 25,
     "metadata": {},
     "output_type": "execute_result"
    }
   ],
   "source": [
    "xx=[[6],[8],[10],[14],[18]]\n",
    "yy=[[7],[9],[13],[17.5],[18]]\n",
    "x_test=[[8],[9],[11],[16],[12]]\n",
    "y_test=[[11],[8.5],[15],[18],[11]]\n",
    "model.fit(xx,yy)\n",
    "model.predict(x_test)"
   ]
  },
  {
   "cell_type": "code",
   "execution_count": 26,
   "metadata": {
    "collapsed": false
   },
   "outputs": [
    {
     "data": {
      "text/plain": [
       "0.6620052929422553"
      ]
     },
     "execution_count": 26,
     "metadata": {},
     "output_type": "execute_result"
    }
   ],
   "source": [
    "model.score(x_test,y_test)"
   ]
  },
  {
   "cell_type": "code",
   "execution_count": 23,
   "metadata": {
    "collapsed": false
   },
   "outputs": [
    {
     "data": {
      "text/plain": [
       "array([[ 7.82327586]])"
      ]
     },
     "execution_count": 23,
     "metadata": {},
     "output_type": "execute_result"
    }
   ],
   "source": [
    "model.predict(6)"
   ]
  },
  {
   "cell_type": "code",
   "execution_count": 31,
   "metadata": {
    "collapsed": false
   },
   "outputs": [
    {
     "name": "stdout",
     "output_type": "stream",
     "text": [
      "9.42231638418 [11]\n",
      "9.50211864407 [8.5]\n",
      "12.5911016949 [15]\n",
      "17.8724105461 [18]\n",
      "12.6709039548 [11]\n",
      "0.786895818529\n",
      "9.42231638418 [11]\n",
      "9.50211864407 [8.5]\n",
      "12.5911016949 [15]\n",
      "17.8724105461 [18]\n",
      "12.6709039548 [11]\n"
     ]
    }
   ],
   "source": [
    "x=[[6,2],[8,1],[10,6],[14,2],[18,0]]\n",
    "y=[7,9,13,17.5,18]\n",
    "\n",
    "from sklearn.linear_model import LinearRegression\n",
    "model = LinearRegression()\n",
    "model.fit(x,y)\n",
    "x_test=[[8,2],[9,0],[11,2],[16,2],[12,0]]\n",
    "y_test=[[11],[8.5],[15],[18],[11]]\n",
    "predictions=model.predict(x_test)\n",
    "for i,prediction in enumerate(predictions):\n",
    "    print(prediction,y_test[i])\n",
    "print(model.score(x_test,y_test))\n",
    "\n",
    "for i in range(len(predictions)):\n",
    "    print(predictions[i],y_test[i])"
   ]
  },
  {
   "cell_type": "code",
   "execution_count": null,
   "metadata": {
    "collapsed": true
   },
   "outputs": [],
   "source": []
  }
 ],
 "metadata": {
  "kernelspec": {
   "display_name": "Python 3",
   "language": "python",
   "name": "python3"
  },
  "language_info": {
   "codemirror_mode": {
    "name": "ipython",
    "version": 3
   },
   "file_extension": ".py",
   "mimetype": "text/x-python",
   "name": "python",
   "nbconvert_exporter": "python",
   "pygments_lexer": "ipython3",
   "version": "3.6.0"
  }
 },
 "nbformat": 4,
 "nbformat_minor": 2
}
